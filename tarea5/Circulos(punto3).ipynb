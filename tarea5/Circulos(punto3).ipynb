{
 "metadata": {
  "name": "",
  "signature": "sha256:4f5c0e943f9ffc70b2a168bdc3753891163ac8edd99aa71f1958c421c6a35bfc"
 },
 "nbformat": 3,
 "nbformat_minor": 0,
 "worksheets": [
  {
   "cells": [
    {
     "cell_type": "code",
     "collapsed": false,
     "input": [
      "%pylab inline\n",
      "from scipy.fftpack import fft, fftfreq"
     ],
     "language": "python",
     "metadata": {},
     "outputs": [
      {
       "output_type": "stream",
       "stream": "stdout",
       "text": [
        "Populating the interactive namespace from numpy and matplotlib\n"
       ]
      }
     ],
     "prompt_number": 1
    },
    {
     "cell_type": "heading",
     "level": 1,
     "metadata": {},
     "source": [
      "Punto 3: C\u00edrculos"
     ]
    },
    {
     "cell_type": "heading",
     "level": 2,
     "metadata": {},
     "source": [
      "Teor\u00eda"
     ]
    },
    {
     "cell_type": "markdown",
     "metadata": {},
     "source": [
      "La autoocorrelaci\u00f3n de una funci\u00f3n (definida como la convoluci\u00f3n de la funci\u00f3n con ella misma), puede ser interpretada como la similitud de la funci\u00f3n con ella misma trasladada un vector r. En otras palabras, entre mayor sea el valor de la autocorrelaci\u00f3n en r de una funci\u00f3n, mayor similitud tendr\u00e1 la funci\u00f3n con ella misma trasladada dicha distancia $\\vec{r}$.\n",
      "Esto puede ser usado para determinar la frecuencia de las ocurrencias de m\u00e1ximos o m\u00ednimos peri\u00f3dicos en ciertas funciones no peri\u00f3dicas, dado que trasladada dicho periodo, la funci\u00f3n ser\u00e1 muy similar con ella misma.\n",
      "\n",
      "$$ C_{ff}(\\vec{r}) = \\int_{-\\infty}^{\\infty} f(\\vec{x} - \\vec{r}) \\overline{f( \\vec{x} )} d\\vec{x} $$\n",
      "\n",
      "Esta interpretaci\u00f3n se puede aplicar al problema de los c\u00edrculos. Si se toma la correlaci\u00f3n del conjunto de c\u00edrculos, se debe esperar que tenga m\u00e1ximos espaciados por el di\u00e1metro de los c\u00edrculos, ya que el conjunto de datos trasladado un vector con norma el di\u00e1metro del c\u00edrculo es muy parecido al conjunto sin trasladar. Con esto, se espera que si se autocorrelacionan los datos, se pueda determinar el di\u00e1metro de los c\u00edrculos con ruido.\n",
      "\n",
      "En este orden de ideas, se puede moderlar la funci\u00f3n de los c\u00edrculos como una funci\u00f3n de dos variables que es 1 en las coordenadas que aparecen en BAO.dat, y 0 en las que no. En estos t\u00e9rminos, la funci\u00f3n est\u00e1 compuesta de la funci\u00f3n de c\u00edrculos $s$ y la funci\u00f3n de ruido $r$: \n",
      "\n",
      "$$ f(\\vec{r}) = s(\\vec{r}) + r(\\vec{r}) $$\n",
      "\n",
      "Si se saca la correlaci\u00f3n de $ f $, se puede ver que es una suma de correlaciones de la siguiente manera.\n",
      "\n",
      "$$ C_{ff}(\\vec{r}) = \\int_{-\\infty}^{\\infty} (s(\\vec{x} - \\vec{r}) + r(\\vec{x} - \\vec{r}))(\\overline{s(\\vec{r}) + r(\\vec{r})}) d\\vec{x} $$\n",
      "$$ C_{ff}(\\vec{r}) = \\int_{-\\infty}^{\\infty} s(\\vec{x} - \\vec{r})\\overline{f}( \\vec{x} ) d\\vec{x} $$\n",
      "\n",
      "La correlaci\u00f3n del ruido ser\u00e1 claramente lineal, dado que por su homogeneidad, la funci\u00f3n de ruido es muy parecida a ella misma trasladada con cualquier vector, sin embargo, como el conjunto es finito, cada vez habr\u00e1 menor espacio sobre el que hallar la correlaci\u00f3n ( el espacio de la interseccion los dominios de las funciones se reduce )."
     ]
    },
    {
     "cell_type": "heading",
     "level": 2,
     "metadata": {},
     "source": [
      "Algoritmos necesarios"
     ]
    },
    {
     "cell_type": "code",
     "collapsed": false,
     "input": [
      "# M\u00e9todo que devuelve una matriz sim\u00e9trica equiespaciada a partir de un conjunto de datos en 2 dimensiones\n",
      "# Cada punto se toma como si su funcion fuera f(x,y) = 1, y los puntos que no aparecen se toman como 0\n",
      "# data: el conjunto de datos\n",
      "# num: el numero \n",
      "# matrix: la matriz equiespaciada\n",
      "def getSpacedMatrix( data, num):\n",
      "    # el espacio entre cada cuadro de la matriz\n",
      "    dx = 1.0/(num/6)\n",
      "    # genera los linspaces que determinan la posici\u00f3n de inicio en x e y de cada columna y fila respectivamente\n",
      "    linx = linspace(min(data.T[0]),max(data.T[0]),num)\n",
      "    liny = linspace(min(data.T[1]),max(data.T[1]),num)\n",
      "    # crea la matriz a retornar\n",
      "    matrix = np.zeros((num,num))\n",
      "    # Le asigna a cada cuadro el numero de puntos que caen dentro\n",
      "    for i in range(len(data)):\n",
      "        iX = where(linx <= data[i][0])[0][-1]\n",
      "        iY = where(liny <= data[i][1])[0][-1]\n",
      "        matrix[iX][iY] += 1\n",
      "    return matrix"
     ],
     "language": "python",
     "metadata": {},
     "outputs": [],
     "prompt_number": 6
    },
    {
     "cell_type": "code",
     "collapsed": false,
     "input": [
      "# Devuelve una lista con la matriz de abs(fft2D) de una matriz equiespaciada dada, (en la primera posicion)\n",
      "# y la matriz de frecuencias de dicha transformada (en la segunda posicion)\n",
      "# matrix: la matriz a transformar con fourier\n",
      "# dx: la el espacio entre los cuadros(el grosor de los cuadros) de la matriz a transformar\n",
      "# fftmatrix: abs(fft(matrix)) matriz con valores reales\n",
      "# freqMatrix: La matriz de frecuencias correspondiente (contiene la norma de la frecuencia en cada espacio)\n",
      "def absfft( matrix, dx ):\n",
      "    # Saca a transformada de fourier 2D de la matriz\n",
      "    Fm = fft2(matrix2)\n",
      "    # Genera los vectores de frecuencias en cada dimension y crea la matriz de frecuencias\n",
      "    freqx = freqy = fftfreq(len(matrix), dx)\n",
      "    freqMatrix = np.zeros((len(freqx), len(freqy)))\n",
      "    # Saca el valor absoluto de cada valor de la matriz\n",
      "    i = j = 0\n",
      "    for i in range(len(Fm)):\n",
      "        for j in range(len(Fm[0])):\n",
      "            fftmatrix[i][j] = float(abs(Fm[i][j]))\n",
      "\n",
      "    # Genera la matriz de frecuencias (con sus normas)\n",
      "    for i in range(len(freqx)):\n",
      "        for j in range(len(freqy)):\n",
      "            freqMatrix[i][j] = (np.linalg.norm([freqx[i], freqy[j]]))\n",
      "    \n",
      "    return [fftmatrix, freqMatrix]"
     ],
     "language": "python",
     "metadata": {},
     "outputs": [],
     "prompt_number": 7
    },
    {
     "cell_type": "code",
     "collapsed": false,
     "input": [
      "# Genera un vector con el promedio del valor de la transformada de fourier en puntos donde la norma de la \n",
      "# frecuencia est\u00e1 en abs( fi + df), y su respectivo vector de frecuencias\n",
      "# fftMatrix: la transformada de fourier (en abs) de una matriz\n",
      "# freqMatrix: la matriz de frecuencias respectiva de fftMatrix\n",
      "# correlation: el promedio de la transformada(en valor absoluto) en un anillo de frecuencias\n",
      "# freqxP : el valor de frecuencias para cada promedio\n",
      "def meanFreqMatrix( fftmatrix, freqMatrix):\n",
      "    # Genera el vector unidimensional de normas de frecuencias ( solo escoje las frecuencias en x)\n",
      "    freqxP = (freqMatrix[:][0])[where(freqx >= 0)]\n",
      "    # Crea el vector unidimensional del promedio\n",
      "    correlation = np.zeros(len(freqxP))\n",
      "    # Recorre el vector de frecuencias y promedia sobre cada anillo\n",
      "    for i in range(len(freqxP) -1):\n",
      "        # escoge los valores dentro del anillo\n",
      "        index = where((freqMatrix > freqxP[i]) & (freqMatrix < freqxP[i+1]))\n",
      "        # promedia si encontr\u00f3 valores\n",
      "        if(len(index[0]) != 0):\n",
      "            vec = fftmatrix[index]\n",
      "            correlation[i] = np.mean(vec)\n",
      "    # El ultimo anillo        \n",
      "    i = len(freqxP) -1\n",
      "    index = where((freqMatrix > freqxP[i]))\n",
      "    if(len(index[0]) != 0):\n",
      "        vec = fftmatrix[index]\n",
      "        correlation[i] += np.mean(vec)\n",
      "    \n",
      "    return [correlation, freqXP]\n",
      "    "
     ],
     "language": "python",
     "metadata": {},
     "outputs": [],
     "prompt_number": 8
    },
    {
     "cell_type": "code",
     "collapsed": false,
     "input": [
      "# Devuelve un array con los primeros n maximos locales de una funcion  y = f(x) donde x e y son arrays\n",
      "# vecX: los valores de x de la funcion\n",
      "# vecy: los valores en y de la funcion\n",
      "# n: el numero de maximos que se quiere hallar\n",
      "# maxX : las posiciones de los maximos en x\n",
      "# maxY : las posiciones de los maximos en y\n",
      "def getMaxs( n, VecX, vecy): \n",
      "    # Copia el vector y para no afectarlo\n",
      "    VecY = vecy.copy()\n",
      "    # Crea los vectores de maximos\n",
      "    maxX = []\n",
      "    maxY = []\n",
      "    # Busca los m\u00e1ximos\n",
      "    for i in range(len(correlation2)-1):\n",
      "        arg = argmax(correlation2)\n",
      "        # Verifica que sean m\u00e1ximos locales\n",
      "        if arg != 0 :\n",
      "            if arg != len(vecX)-1 :\n",
      "                if (vecY[arg - 1] <= vecY[arg]) & (vecY[arg + 1] <= vecY[arg]):\n",
      "                    maxY.append( [VecY[arg]] )\n",
      "                    maxX.append( [VecX[arg]] )\n",
      "            else: \n",
      "                if (vecY[arg - 1] <= vecY[arg]):\n",
      "                    maxY.append( [VecY[arg]] )\n",
      "                    maxX.append( [VecX[arg]] )\n",
      "        else: \n",
      "            if (vecY[arg + 1] <= vecY[arg]):\n",
      "                maxY.append( [VecY[arg]] )\n",
      "                maxX.append( [VecX[arg]] )\n",
      "        # Anula el maximo para encontrar el siguiente   \n",
      "        VecY[arg] = 0\n",
      "    # Convierte a array\n",
      "    maxX = np.array(maxX)\n",
      "    maxY = np.array(maxY)\n",
      "    \n",
      "    return [maxX, maxY]\n"
     ],
     "language": "python",
     "metadata": {},
     "outputs": [],
     "prompt_number": 9
    },
    {
     "cell_type": "code",
     "collapsed": false,
     "input": [
      "# Se obtiene el archivo\n",
      "data = np.array(loadtxt('BAO.dat'))\n",
      "# grafica\n",
      "scatter(data.T[0], data.T[1], alpha = 0.071)\n",
      "print (len(data))**(0.5)\n",
      "print data[-1], data[len(data)-1]"
     ],
     "language": "python",
     "metadata": {},
     "outputs": []
    }
   ],
   "metadata": {}
  }
 ]
}