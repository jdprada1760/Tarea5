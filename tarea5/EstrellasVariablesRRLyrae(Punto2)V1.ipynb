{
 "metadata": {
  "name": "",
  "signature": "sha256:a8568650e49e115440fdd2822628d7f1f41f04a503d593b0a91d9edf774d0a1c"
 },
 "nbformat": 3,
 "nbformat_minor": 0,
 "worksheets": [
  {
   "cells": [
    {
     "cell_type": "code",
     "collapsed": false,
     "input": [
      "%pylab\n",
      "from scipy.fftpack import fft, fftfreq"
     ],
     "language": "python",
     "metadata": {},
     "outputs": [
      {
       "output_type": "stream",
       "stream": "stdout",
       "text": [
        "Using matplotlib backend: TkAgg\n",
        "Populating the interactive namespace from numpy and matplotlib\n"
       ]
      },
      {
       "output_type": "stream",
       "stream": "stderr",
       "text": [
        "WARNING: pylab import has clobbered these variables: ['fft']\n",
        "`%pylab --no-import-all` prevents importing * from pylab and numpy\n"
       ]
      }
     ],
     "prompt_number": 30
    },
    {
     "cell_type": "code",
     "collapsed": false,
     "input": [
      "# Devuelve un array con los primeros n maximos locales de una funcion  y = f(x) donde x e y son arrays\n",
      "# vecX: los valores de x de la funcion\n",
      "# vecy: los valores en y de la funcion\n",
      "# n: el numero de maximos que se quiere hallar\n",
      "# args: el array con los argumentos de los primeros n maximos locales a partir del 0 en el eje x (no los m\u00e1s m\u00e1ximos)\n",
      "def getArgsMaxs( n, vecy): \n",
      "    # Copia el vector y para no afectarlo\n",
      "    vecY = vecy.copy()\n",
      "    # Crea los vectores de maximos\n",
      "    args = []\n",
      "    # Busca los m\u00e1ximos\n",
      "    m = 0\n",
      "    i = 0\n",
      "    while (i < len(vecY)) and ( m <= n ): \n",
      "        arg = i\n",
      "        # Verifica que sean m\u00e1ximos locales\n",
      "        if arg != 0 :\n",
      "            if arg != len(vecY)-1 :\n",
      "                # Quiero que el m\u00e1ximo sea notable para que pueda surtir efecto en la serie de fourier\n",
      "                if ((vecY[arg - 1] - vecY[arg]) < -10**-10) & ((vecY[arg + 1] - vecY[arg]) < -10**-10):\n",
      "                    args.append(arg)\n",
      "                    print vecY[arg - 1], vecY[arg], vecY[arg + 1]\n",
      "                    m += 1\n",
      "            else: \n",
      "                if (vecY[arg - 1] - vecY[arg]) < -10**-10:\n",
      "                    args.append(arg)\n",
      "                    m += 1\n",
      "        else: \n",
      "            if (vecY[arg + 1] - vecY[arg]) < -10**-10:\n",
      "                args.append(arg)\n",
      "                m += 1\n",
      "                \n",
      "        i += 1\n",
      "        \n",
      "    # Convierte a array\n",
      "    args = array(args)\n",
      "    \n",
      "    return args"
     ],
     "language": "python",
     "metadata": {},
     "outputs": [],
     "prompt_number": 38
    },
    {
     "cell_type": "code",
     "collapsed": false,
     "input": [
      "# Obtiene la informaci\u00f3n\n",
      "data = np.array(loadtxt('RR_Lyrae_template.dat'))\n",
      "# La fase de la estrella\n",
      "phase = data.T[0]\n",
      "# La intensidad de la estrella\n",
      "intensity = data.T[1]\n",
      "# Equiespacio de la fase\n",
      "dp = np.mean(phase[1:] - phase[:-1])\n",
      "# Confirma el equiespaciamiento (desvest debe ser 0)\n",
      "desvest = np.mean((phase[1:] - phase[:-1]) - dp)\n",
      "print \"Desviaci\u00f3n est\u00e1ndaar: \", desvest \n",
      "# Grafica phase-intensity\n",
      "plot(phase, intensity)"
     ],
     "language": "python",
     "metadata": {},
     "outputs": [
      {
       "output_type": "stream",
       "stream": "stdout",
       "text": [
        "Desviaci\u00f3n est\u00e1ndaar:  6.85558552287e-20\n"
       ]
      },
      {
       "metadata": {},
       "output_type": "pyout",
       "prompt_number": 33,
       "text": [
        "[<matplotlib.lines.Line2D at 0x64255d0>]"
       ]
      }
     ],
     "prompt_number": 33
    },
    {
     "cell_type": "markdown",
     "metadata": {},
     "source": [
      "Los datos ya se encuentran equiespaciados por la fase, por lo que solo es necesario aplicar la transformada de fourier al conjunto de datos de intensidad."
     ]
    },
    {
     "cell_type": "code",
     "collapsed": false,
     "input": [
      "# Saca la transformada de fourier de los datos de intensidad\n",
      "fftInt = fft(intensity)\n",
      "# Obtiene el espacio de frecuencias (phase^-1)\n",
      "fftFreq = fftfreq(len(intensity), dp)\n",
      "# Grafica la transformada de fourier\n",
      "plot( fftFreq, abs(fftInt) )"
     ],
     "language": "python",
     "metadata": {},
     "outputs": [
      {
       "metadata": {},
       "output_type": "pyout",
       "prompt_number": 34,
       "text": [
        "[<matplotlib.lines.Line2D at 0x4f97650>]"
       ]
      }
     ],
     "prompt_number": 34
    },
    {
     "cell_type": "code",
     "collapsed": false,
     "input": [
      "plot( fftFreq, abs(fftInt) )\n",
      "scatter( fftFreq[0], abs(fftInt[0]))\n",
      "print fftFreq"
     ],
     "language": "python",
     "metadata": {},
     "outputs": [
      {
       "output_type": "stream",
       "stream": "stdout",
       "text": [
        "[ 0.    0.25  0.5  ..., -0.75 -0.5  -0.25]\n"
       ]
      }
     ],
     "prompt_number": 35
    },
    {
     "cell_type": "code",
     "collapsed": false,
     "input": [
      "\n",
      "# Asumimos si se escogen n frecuencias positivas, tambien se escogieron las correspondiente n frecuencias negativas\n",
      "for j in range(10,11):\n",
      "    # Copia la transformada para no afectarlas y poder reutilizarlas\n",
      "    newFourier = np.zeros(len(fftInt)) + 1j*np.zeros(len(fftInt))\n",
      "    nF = fftInt.copy()\n",
      "    freqs = fftFreq.copy()    \n",
      "    maxims = getArgsMaxs(j, abs(fftInt))\n",
      "    totalMax = concatenate((maxims, -maxims[1:]))\n",
      "    k  = 0\n",
      "    for k in range(len(totalMax)):\n",
      "            newFourier[totalMax[k]] = nF[totalMax[k]]\n",
      "\n",
      "        \n",
      "    newIntensity = ifft(newFourier)\n",
      "    '''\n",
      "    fig = plt.figure()\n",
      "    ax = fig.add_subplot(111)\n",
      "    ax.plot(freqs, newFourier)\n",
      "    ax.set_title('Transformada de Fourier con las primeras'+ string_(j)+ ' frecuencias positivas')\n",
      "    ax.set_xlabel('F[Intensity]')\n",
      "    ax.set_ylabel('f(1/phase)')\n",
      "    fig2 = plt.figure()\n",
      "    ax = fig.add_subplot(111)\n",
      "    ax.plot(phase, newIntensity)\n",
      "    ax.set_title('Funcion de intensidad con las primeras '+ string_(j)+ ' frecuencias positivas')\n",
      "    ax.set_xlabel('Intensity')\n",
      "    ax.set_ylabel('Phase')\n",
      "    '''\n",
      "    #fig = plt.figure()\n",
      "    plot(freqs,abs( newFourier))\n",
      "    scatter(freqs[totalMax],abs( newFourier[totalMax]),c = 'r' )\n",
      "    print totalMax"
     ],
     "language": "python",
     "metadata": {},
     "outputs": [
      {
       "output_type": "stream",
       "stream": "stdout",
       "text": [
        "9.45118822715e-15 837.419626933 2.87550871522e-14\n",
        "1.92217183357e-14 400.354564408 1.01441198739e-14\n",
        "2.89689951298e-14 297.624133773 1.2696515661e-14\n",
        "3.72477232662e-14 179.248840916 2.06079557003e-14\n",
        "4.73457734164e-14 117.955673949 4.52990690885e-14\n",
        "9.74071021025e-15 69.714840775 5.65935371571e-14\n",
        "8.22416288545e-15 41.1630005506 1.28139230501e-14\n",
        "1.35604064049e-14 29.2936069364 1.40728932942e-14\n",
        "2.44386542161e-14 20.0605026347 3.36078353272e-14\n",
        "3.23473045609e-14 11.3424440061 1.67357992203e-14\n",
        "[  0   4   8  12  16  20  24  28  32  36  40  -4  -8 -12 -16 -20 -24 -28\n",
        " -32 -36 -40]"
       ]
      },
      {
       "output_type": "stream",
       "stream": "stdout",
       "text": [
        "\n"
       ]
      }
     ],
     "prompt_number": 39
    },
    {
     "cell_type": "code",
     "collapsed": false,
     "input": [],
     "language": "python",
     "metadata": {},
     "outputs": []
    }
   ],
   "metadata": {}
  }
 ]
}